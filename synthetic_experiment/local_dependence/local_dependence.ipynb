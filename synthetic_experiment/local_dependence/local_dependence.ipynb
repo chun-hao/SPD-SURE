{
 "cells": [
  {
   "cell_type": "markdown",
   "id": "85aa174c-01b1-4a4e-b87e-7d40b716f538",
   "metadata": {},
   "source": [
    "# Local Dependence"
   ]
  },
  {
   "cell_type": "code",
   "execution_count": 1,
   "id": "68741f45-4848-4bfc-a24f-e74dc71adb36",
   "metadata": {},
   "outputs": [],
   "source": [
    "import numpy as np\n",
    "import sys\n",
    "sys.path.insert(1, '../../')\n",
    "from SPD_SURE_pytorch import *\n",
    "import matplotlib.pyplot as plt\n",
    "from matplotlib.patches import Ellipse\n",
    "import seaborn as sns\n",
    "import pandas as pd\n",
    "from plotnine import *\n",
    "from plotnine.data import mpg\n",
    "import multiprocessing\n",
    "from joblib import Parallel, delayed\n",
    "from scipy.stats import invwishart"
   ]
  },
  {
   "cell_type": "code",
   "execution_count": 2,
   "id": "a8eecd89-a767-4aea-bb42-5de6ef208179",
   "metadata": {},
   "outputs": [],
   "source": [
    "def FM_smooth(X, k):\n",
    "    # X is an array of p independent N x N SPD matrices\n",
    "    # k is the smooth parameter, i.e., compute the FM for every consecutive k matrices\n",
    "    p, N = X.shape[0:2]\n",
    "    Y = np.zeros((p - k + 1, N, N))\n",
    "    for i in range(p-k+1):\n",
    "        Y[i] = FM_logE(X[i:i+k])\n",
    "    return Y"
   ]
  },
  {
   "cell_type": "code",
   "execution_count": 18,
   "id": "30ec952c-c714-41fe-adc4-0fff22925b2b",
   "metadata": {},
   "outputs": [],
   "source": [
    "def exp_dep(ran_seed):\n",
    "    p = 100\n",
    "    N = 3\n",
    "    q = int(N*(N+1)/2)\n",
    "    lam = 50\n",
    "    mu = np.eye(N)\n",
    "    nu = 30\n",
    "    Psi = np.eye(q)\n",
    "    n = 10\n",
    "    \n",
    "    k_vec = np.array([1,2,3,4,5,6,7,8,9,10])\n",
    "    \n",
    "    \n",
    "    loss_SURE = np.zeros(len(k_vec))\n",
    "    loss_SURE_full = np.zeros(len(k_vec))\n",
    "    loss_MLE = np.zeros(len(k_vec))\n",
    "    \n",
    "    for i, k in enumerate(k_vec):\n",
    "        p_ext = p + k - 1\n",
    "        np.random.seed(ran_seed)\n",
    "        \n",
    "        # generate independent SPD matrices\n",
    "        Sigma = invwishart.rvs(nu, Psi, size = p_ext)\n",
    "        M = np.zeros((p_ext, N, N))\n",
    "        M = np.array([SPD_normal(1, mu, Sigma[i]/lam) for i in range(p_ext)])\n",
    "        Y = np.array([SPD_normal(n, M[i], Sigma[i]) for i in range(p_ext)])\n",
    "        \n",
    "        # compute the moving average to make the array dependent\n",
    "        M_dep = FM_smooth(M, k)\n",
    "        X = np.array([FM_smooth(Y[:,j], k) for j in range(n)])\n",
    "        X = X.transpose((1,0,2,3))\n",
    "        \n",
    "        M_logE = np.array([FM_logE(X[i]) for i in range(p)])    \n",
    "        S_logE = (n-1)*np.array([cov_logE(X[i]) for i in range(p)])\n",
    "        S_eigval = np.linalg.eigh(S_logE)[0]\n",
    "        \n",
    "        _, _, M_SURE = SURE_const(M_logE, np.mean(S_eigval, axis = 1)/(n*(n-1)), verbose = False)\n",
    "        \n",
    "        _, _, _, _, M_SURE_full, Sig_SURE_full = SURE_full(M_logE, S_logE, n, verbose = False)\n",
    "        \n",
    "        loss_MLE[i] = loss(M_logE, M_dep)\n",
    "        loss_SURE[i] = loss(M_SURE, M_dep)\n",
    "        loss_SURE_full[i] = loss(M_SURE_full, M_dep)\n",
    "        \n",
    "        \n",
    "    risk = pd.DataFrame(list(zip(k_vec, loss_MLE, loss_SURE, loss_SURE_full)),\n",
    "                    columns =['k', 'MLE', 'SURE', 'SURE_full'])\n",
    "    return risk.values\n",
    "\n"
   ]
  },
  {
   "cell_type": "code",
   "execution_count": 19,
   "id": "ed7ba179-a1ae-48cb-8215-e184134c2df5",
   "metadata": {},
   "outputs": [],
   "source": [
    "seed = 2022\n",
    "num_cores = -1\n",
    "m = 100\n",
    "\n",
    "results = Parallel(n_jobs=num_cores)(delayed(exp_dep)(seed + i) for i in range(m))\n",
    "\n"
   ]
  },
  {
   "cell_type": "code",
   "execution_count": 21,
   "id": "b5050a29-601a-469b-bd90-c531a12d2fa5",
   "metadata": {},
   "outputs": [
    {
     "name": "stderr",
     "output_type": "stream",
     "text": [
      "/Users/chyang/opt/anaconda3/lib/python3.9/site-packages/plotnine/ggplot.py:719: PlotnineWarning: Saving 6 x 4 in image.\n",
      "/Users/chyang/opt/anaconda3/lib/python3.9/site-packages/plotnine/ggplot.py:722: PlotnineWarning: Filename: local_dependence.pdf\n"
     ]
    },
    {
     "data": {
      "image/png": "[encoded data removed]",
      "text/plain": [
       "<Figure size 640x480 with 1 Axes>"
      ]
     },
     "metadata": {},
     "output_type": "display_data"
    },
    {
     "data": {
      "text/plain": [
       "<ggplot: (8790204235054)>"
      ]
     },
     "execution_count": 21,
     "metadata": {},
     "output_type": "execute_result"
    }
   ],
   "source": [
    "risk = pd.DataFrame(np.mean(np.array(results), axis = 0), columns =['k', 'MLE', 'SURE', 'SURE_full'])\n",
    "\n",
    "risk = pd.melt(risk, ['k'], var_name='Estimator', value_name='risk')\n",
    "fig = (ggplot(risk)\n",
    "    + aes(x='k', y='risk', color='Estimator', linetype='Estimator')\n",
    "    + geom_line(size = 0.8)\n",
    "    + xlab('k')\n",
    "    + ylab('Average Loss')\n",
    "    + scale_color_manual(labels = ['MLE', 'SURE', 'SURE.Full'], \n",
    "                       values = ['red', 'blue', 'green'])\n",
    "    + scale_linetype_manual(labels = ['MLE', 'SURE', 'SURE.Full'], \n",
    "                          values = ['dashdot','dashed','solid'])\n",
    "    + theme(axis_title=element_text(size=8), \n",
    "          axis_text=element_text(size=8),\n",
    "          legend_title=element_text(size=8),\n",
    "          legend_text=element_text(size=8),\n",
    "          strip_text=element_text(size=8))\n",
    "    #+ ggtitle(r'$\\mu=diag(2,0.5,0.5)$, $\\Psi = I_6$, $\\lambda = 10$, $\\nu=15$')\n",
    "    )\n",
    "\n",
    "fig.save('local_dependence.pdf', dpi = 320, width = 6, height = 4, units=\"in\")\n",
    "fig"
   ]
  },
  {
   "cell_type": "code",
   "execution_count": null,
   "id": "78807526-e657-4327-b02f-5a81668764fc",
   "metadata": {},
   "outputs": [],
   "source": []
  }
 ],
 "metadata": {
  "kernelspec": {
   "display_name": "Python 3 (ipykernel)",
   "language": "python",
   "name": "python3"
  },
  "language_info": {
   "codemirror_mode": {
    "name": "ipython",
    "version": 3
   },
   "file_extension": ".py",
   "mimetype": "text/x-python",
   "name": "python",
   "nbconvert_exporter": "python",
   "pygments_lexer": "ipython3",
   "version": "3.9.7"
  }
 },
 "nbformat": 4,
 "nbformat_minor": 5
}
