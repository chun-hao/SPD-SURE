{
 "cells": [
  {
   "cell_type": "code",
   "execution_count": 1,
   "metadata": {},
   "outputs": [],
   "source": [
    "import numpy as np\n",
    "import matplotlib.pyplot as plt\n",
    "import numpy.random as rnd\n",
    "from matplotlib.patches import Ellipse\n",
    "import seaborn as sns\n",
    "import sys\n",
    "sys.path.insert(1, '../../')\n",
    "from SPD_SURE_pytorch import *\n",
    "from tweedie_ncF import *"
   ]
  },
  {
   "cell_type": "code",
   "execution_count": 2,
   "metadata": {},
   "outputs": [],
   "source": [
    "def plot_dti_2d(X, save = True, figname = \"fig.pdf\"):\n",
    "    eigv, eigvec = np.linalg.eigh(X)\n",
    "    h, w, N = X.shape[0:3]\n",
    "    width = eigv[:,:,1]\n",
    "    height = eigv[:,:,0]\n",
    "    angle = np.arctan2(eigvec[:,:,0,0], eigvec[:,:,0,1])/np.pi*180\n",
    "\n",
    "\n",
    "    ells = [Ellipse(xy=(i, j), width=width[i, j], height=height[i, j], angle=angle[i, j])\n",
    "            for i in range(w) for j in range(h)]\n",
    "\n",
    "    fig = plt.figure(0, figsize = (6, 6))\n",
    "    ax = fig.add_subplot(111, aspect='equal')\n",
    "    for e in ells:\n",
    "        ax.add_artist(e)\n",
    "        e.set_clip_box(ax.bbox)\n",
    "        #e.set_alpha(rnd.rand())\n",
    "        #e.set_facecolor(rnd.rand(3))\n",
    "\n",
    "    ax.set_xlim(0-1, w)\n",
    "    ax.set_ylim(0-1, h)\n",
    "    ax.axis('off')\n",
    "    \n",
    "    if save:\n",
    "        plt.tight_layout()\n",
    "        plt.savefig(figname, dpi=100)\n",
    "\n",
    "    plt.show()\n"
   ]
  },
  {
   "cell_type": "code",
   "execution_count": 3,
   "metadata": {},
   "outputs": [],
   "source": [
    "h, w = 20, 20\n",
    "normal = np.expand_dims(np.array([[0.3, 0],[0, 1]]), axis = (0, 1))\n",
    "abnormal = np.expand_dims(np.array([[1, 0],[0, 0.3]]), axis = (0, 1))\n",
    "group1_mean = np.tile(normal, (h, w, 1, 1))\n",
    "group2_mean = np.tile(normal, (h, w, 1, 1))\n",
    "group2_mean[int(h/2):h, int(w/2):w] = np.tile(abnormal, (int(h/2), int(w/2), 1, 1))"
   ]
  },
  {
   "cell_type": "code",
   "execution_count": 4,
   "metadata": {},
   "outputs": [],
   "source": [
    "#plot_dti_2d(group1_mean, figname=\"group1_mean.pdf\")\n",
    "#plot_dti_2d(group2_mean, figname=\"group2_mean.pdf\")"
   ]
  },
  {
   "cell_type": "code",
   "execution_count": 5,
   "metadata": {},
   "outputs": [],
   "source": [
    "n1 = 30\n",
    "n2 = 30\n",
    "h, w = 20, 20\n",
    "N = 2\n",
    "q = int(N*(N+1)/2)\n",
    "group1_high = np.zeros((n1, h, w, N, N)) # high variance\n",
    "group2_high = np.zeros((n2, h, w, N, N))\n",
    "group1_low = np.zeros((n1, h, w, N, N)) # low variance\n",
    "group2_low = np.zeros((n2, h, w, N, N))\n",
    "np.random.seed(2021)\n",
    "for i in range(h):\n",
    "    for j in range(w):\n",
    "        # high variance\n",
    "        sig2 = np.random.uniform(0.3, 0.8)\n",
    "        group1_high[:,i,j] = SPD_normal(n1, group1_mean[i,j], sig2 * np.eye(q))\n",
    "        group2_high[:,i,j] = SPD_normal(n2, group2_mean[i,j], sig2 * np.eye(q))\n",
    "        \n",
    "        # low variance\n",
    "        sig2 = np.random.uniform(0.1, 0.3)\n",
    "        group1_low[:,i,j] = SPD_normal(n1, group1_mean[i,j], sig2 * np.eye(q))\n",
    "        group2_low[:,i,j] = SPD_normal(n2, group2_mean[i,j], sig2 * np.eye(q))"
   ]
  },
  {
   "cell_type": "code",
   "execution_count": 6,
   "metadata": {},
   "outputs": [],
   "source": [
    "# compute the FMs for each group\n",
    "group1_high_FM = np.zeros((h, w, N, N))\n",
    "group2_high_FM = np.zeros((h, w, N, N))\n",
    "group1_low_FM = np.zeros((h, w, N, N))\n",
    "group2_low_FM = np.zeros((h, w, N, N))\n",
    "for i in range(h):\n",
    "    for j in range(w):\n",
    "        group1_high_FM[i,j] = FM_logE(group1_high[:,i,j])\n",
    "        group2_high_FM[i,j] = FM_logE(group2_high[:,i,j])\n",
    "\n",
    "        group1_low_FM[i,j] = FM_logE(group1_low[:,i,j])\n",
    "        group2_low_FM[i,j] = FM_logE(group2_low[:,i,j])"
   ]
  },
  {
   "cell_type": "code",
   "execution_count": 7,
   "metadata": {},
   "outputs": [],
   "source": [
    "# compute the covariance matrices (at each location) for each group\n",
    "group1_high_cov = np.zeros((h, w, q, q))\n",
    "group2_high_cov = np.zeros((h, w, q, q))\n",
    "group1_low_cov = np.zeros((h, w, q, q))\n",
    "group2_low_cov = np.zeros((h, w, q, q))\n",
    "for i in range(h):\n",
    "    for j in range(w):\n",
    "        group1_high_cov[i,j] = cov_logE(group1_high[:,i,j])\n",
    "        group2_high_cov[i,j] = cov_logE(group2_high[:,i,j])\n",
    "\n",
    "        group1_low_cov[i,j] = cov_logE(group1_low[:,i,j])\n",
    "        group2_low_cov[i,j] = cov_logE(group2_low[:,i,j])\n",
    "        \n",
    "# pooled covariances\n",
    "pool_cov_high = ((n1-1)*group1_high_cov + (n2-1)*group2_high_cov)/(n1+n2-2)\n",
    "pool_cov_low = ((n1-1)*group1_low_cov + (n2-1)*group2_low_cov)/(n1+n2-2)\n"
   ]
  },
  {
   "cell_type": "code",
   "execution_count": 8,
   "metadata": {},
   "outputs": [],
   "source": [
    "# compute the Hotelling's t^2 statistics\n",
    "high_t2 = np.zeros((h,w))\n",
    "low_t2 = np.zeros((h,w))\n",
    "for i in range(h):\n",
    "    for j in range(w):\n",
    "        d = vec(group1_high_FM[i,j]) - vec(group2_high_FM[i,j])\n",
    "        high_t2[i,j] = 1/(1/n1 + 1/n2)* np.matmul(d, np.matmul(np.linalg.inv(pool_cov_high[i,j]), d.T))[0][0]\n",
    "        d = vec(group1_low_FM[i,j]) - vec(group2_low_FM[i,j])\n",
    "        low_t2[i,j] = 1/(1/n1 + 1/n2)* np.matmul(d, np.matmul(np.linalg.inv(pool_cov_low[i,j]), d.T))[0][0]\n",
    "        \n",
    "    \n",
    "# transform to F statistics\n",
    "nu = n1 + n2 -2\n",
    "high_f = (nu - q - 2)/(nu * q) * high_t2\n",
    "low_f = (nu - q - 2)/(nu * q) * low_t2"
   ]
  },
  {
   "cell_type": "code",
   "execution_count": 9,
   "metadata": {},
   "outputs": [],
   "source": [
    "# compute the MOM and the EB estimates for the non-centrality parameters\n",
    "df1 = q\n",
    "df2 = nu - q - 1\n",
    "\n",
    "high_MOM = np.maximum(df1*(df2 - 2)/df2 * high_f - df1, 0)\n",
    "low_MOM = np.maximum(df1*(df2 - 2)/df2 * low_f - df1, 0)\n",
    "high_EB = tweedie_ncF(high_f.reshape((-1)), df1, df2, K = 3, maxit = 5000).reshape((h,w))\n",
    "low_EB = tweedie_ncF(low_f.reshape((-1)), df1, df2, K = 3, maxit = 1000).reshape((h,w))"
   ]
  },
  {
   "cell_type": "code",
   "execution_count": 10,
   "metadata": {},
   "outputs": [
    {
     "data": {
      "text/plain": [
       "<Figure size 432x288 with 0 Axes>"
      ]
     },
     "metadata": {},
     "output_type": "display_data"
    }
   ],
   "source": [
    "# heatmaps\n",
    "plt.imshow(high_MOM, cmap='hot')\n",
    "plt.colorbar()\n",
    "plt.gca().invert_yaxis()\n",
    "plt.clim(0, 170) \n",
    "plt.savefig('high_MOM.png', dpi=300)\n",
    "plt.clf()"
   ]
  },
  {
   "cell_type": "code",
   "execution_count": 11,
   "metadata": {},
   "outputs": [
    {
     "data": {
      "text/plain": [
       "<Figure size 432x288 with 0 Axes>"
      ]
     },
     "metadata": {},
     "output_type": "display_data"
    }
   ],
   "source": [
    "plt.imshow(low_MOM, cmap='hot')\n",
    "plt.colorbar()\n",
    "plt.gca().invert_yaxis()\n",
    "plt.clim(0, 530) \n",
    "plt.savefig('low_MOM.png', dpi=300)\n",
    "plt.clf()\n"
   ]
  },
  {
   "cell_type": "code",
   "execution_count": 12,
   "metadata": {},
   "outputs": [
    {
     "data": {
      "text/plain": [
       "<Figure size 432x288 with 0 Axes>"
      ]
     },
     "metadata": {},
     "output_type": "display_data"
    }
   ],
   "source": [
    "plt.imshow(high_EB, cmap='hot')\n",
    "plt.colorbar()\n",
    "plt.gca().invert_yaxis()\n",
    "plt.clim(0, 170) \n",
    "plt.savefig('high_EB.png', dpi=300)\n",
    "plt.clf()"
   ]
  },
  {
   "cell_type": "code",
   "execution_count": 13,
   "metadata": {},
   "outputs": [
    {
     "data": {
      "text/plain": [
       "<Figure size 432x288 with 0 Axes>"
      ]
     },
     "metadata": {},
     "output_type": "display_data"
    }
   ],
   "source": [
    "plt.imshow(low_EB, cmap='hot')\n",
    "plt.colorbar()\n",
    "plt.gca().invert_yaxis()\n",
    "plt.clim(0, 530)\n",
    "plt.savefig('low_EB.png', dpi=300)\n",
    "plt.clf()"
   ]
  },
  {
   "cell_type": "code",
   "execution_count": 14,
   "metadata": {},
   "outputs": [],
   "source": [
    "from scipy.linalg import logm, expm\n",
    "m1 = vec(normal[0,0])\n",
    "m2 = vec(abnormal[0,0])\n",
    "d = 1/(1/n1 + 1/n2)* np.sum((m1-m2)**2)\n"
   ]
  },
  {
   "cell_type": "code",
   "execution_count": 15,
   "metadata": {},
   "outputs": [
    {
     "data": {
      "text/plain": [
       "<Figure size 432x288 with 0 Axes>"
      ]
     },
     "metadata": {},
     "output_type": "display_data"
    }
   ],
   "source": [
    "# density plot\n",
    "# high variance\n",
    "lo = 0.3\n",
    "up = 0.8\n",
    "u = np.random.uniform(lo, up, size = 10000)\n",
    "sns.set_style('whitegrid')\n",
    "#sns.kdeplot(np.array(d/u))\n",
    "sns.kdeplot(high_MOM[int(h/2):h, int(w/2):w].reshape(-1), label = 'MOM')\n",
    "sns.kdeplot(high_EB[int(h/2):h, int(w/2):w].reshape(-1), label = 'Tweedie')\n",
    "plt.axvline(x = d*np.log(up/lo)/(up-lo), color = 'green', linestyle = '--',\n",
    "            label = 'Non-centrality parameter')\n",
    "plt.legend()\n",
    "plt.savefig('high_density.png', dpi=300)\n",
    "plt.clf()\n"
   ]
  },
  {
   "cell_type": "code",
   "execution_count": 16,
   "metadata": {},
   "outputs": [
    {
     "data": {
      "text/plain": [
       "<Figure size 432x288 with 0 Axes>"
      ]
     },
     "metadata": {},
     "output_type": "display_data"
    }
   ],
   "source": [
    "# low variance\n",
    "lo = 0.1\n",
    "up = 0.3\n",
    "u = np.random.uniform(lo, up, size = 10000)\n",
    "sns.set_style('whitegrid')\n",
    "#sns.kdeplot(np.array(d/u))\n",
    "sns.kdeplot(low_MOM[int(h/2):h, int(w/2):w].reshape(-1), label = 'MOM')\n",
    "sns.kdeplot(low_EB[int(h/2):h, int(w/2):w].reshape(-1), label = 'Tweedie')\n",
    "plt.axvline(x = d*np.log(up/lo)/(up-lo), color = 'green', linestyle = '--',\n",
    "            label = 'Non-centrality parameter')\n",
    "plt.legend()\n",
    "plt.savefig('low_density.png', dpi=300)\n",
    "plt.clf()\n",
    "\n"
   ]
  }
 ],
 "metadata": {
  "kernelspec": {
   "display_name": "Python 3 (ipykernel)",
   "language": "python",
   "name": "python3"
  },
  "language_info": {
   "codemirror_mode": {
    "name": "ipython",
    "version": 3
   },
   "file_extension": ".py",
   "mimetype": "text/x-python",
   "name": "python",
   "nbconvert_exporter": "python",
   "pygments_lexer": "ipython3",
   "version": "3.9.7"
  }
 },
 "nbformat": 4,
 "nbformat_minor": 4
}
