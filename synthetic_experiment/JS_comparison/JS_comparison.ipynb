{
 "cells": [
  {
   "cell_type": "markdown",
   "id": "59cc043e-ce71-4c38-a796-2bad7bb57590",
   "metadata": {},
   "source": [
    "# Comparison with the James-Stein estimator"
   ]
  },
  {
   "cell_type": "code",
   "execution_count": 2,
   "id": "c5e75c3c-9214-48fc-8063-b42f75a54ab8",
   "metadata": {},
   "outputs": [],
   "source": [
    "import numpy as np\n",
    "import sys\n",
    "sys.path.insert(1, '../../')\n",
    "from SPD_SURE_pytorch import *\n",
    "import matplotlib.pyplot as plt\n",
    "import pandas as pd\n",
    "from plotnine import *\n",
    "from plotnine.data import mpg\n",
    "import multiprocessing\n",
    "from joblib import Parallel, delayed"
   ]
  },
  {
   "cell_type": "code",
   "execution_count": 3,
   "id": "86c097fa-8256-4b9f-aab4-4f33316d7124",
   "metadata": {},
   "outputs": [],
   "source": [
    "def exp_JS(p, rng):\n",
    "    N = 3 # dim of SPD\n",
    "    #p = 100 # number of independent SPDs\n",
    "    q = int(N*(N+1)/2)\n",
    "    \n",
    "    m = 20\n",
    "    rho = np.linspace(-0.8, 0.8, m)\n",
    "\n",
    "    loss_JS = np.zeros(m)\n",
    "    loss_SURE = np.zeros(m)\n",
    "    loss_MLE = np.zeros(m)\n",
    "    \n",
    "    #S = rng.uniform(0.2, 0.4, p)\n",
    "    S = 0.3 * np.ones(p)\n",
    "    \n",
    "    for i, r in enumerate(rho):\n",
    "\n",
    "        r_vec = rng.uniform(r-0.01, r + 0.01, p)\n",
    "        M = np.array([np.array([[1, rr, rr**2],[rr, 1, rr], [rr**2, rr, 1]]) for rr in r_vec])\n",
    "        #M = np.array([np.array([[1, r, r**2],[r, 1, r], [r**2, r, 1]]) for j in range(p)])\n",
    "        \n",
    "        X = np.array([SPD_normal(1, M[j], S[j]*np.eye(q)) for j in range(p)])\n",
    "        \n",
    "    \n",
    "        sig2 = np.mean(S)\n",
    "        # MLE\n",
    "        loss_MLE[i] = loss(X, M)\n",
    "    \n",
    "        # James-Stein\n",
    "        logX = vec(X)\n",
    "        JS = vec_inv((1 - (p-2)*sig2/(np.linalg.norm(logX)**2))*logX, d = N)\n",
    "        loss_JS[i] = loss(JS, M)\n",
    "    \n",
    "        # SURE\n",
    "        _, _, M_SURE = SURE_const(X, S, verbose = False)\n",
    "        loss_SURE[i] = loss(M_SURE, M)\n",
    "    \n",
    "    risk = pd.DataFrame(list(zip(rho, loss_JS, loss_SURE, loss_MLE)),\n",
    "                    columns =['rho', 'JS', 'SURE', 'MLE'])\n",
    "    return risk.values"
   ]
  },
  {
   "cell_type": "code",
   "execution_count": 6,
   "id": "9c89b0fb-6b3e-4442-b072-60a2e0953426",
   "metadata": {},
   "outputs": [],
   "source": [
    "seed = 2022\n",
    "num_cores = -1\n",
    "p = 100\n",
    "k = 100\n",
    "\n",
    "results = Parallel(n_jobs=num_cores)(delayed(exp_JS)(p, np.random.default_rng(seed + i)) \\\n",
    "                                                     for i in range(k))"
   ]
  },
  {
   "cell_type": "code",
   "execution_count": 7,
   "id": "6b55a299-2b03-438b-a1ce-cae23c3a14f7",
   "metadata": {},
   "outputs": [
    {
     "name": "stderr",
     "output_type": "stream",
     "text": [
      "/Users/chyang/opt/anaconda3/lib/python3.9/site-packages/plotnine/ggplot.py:719: PlotnineWarning: Saving 6 x 4 in image.\n",
      "/Users/chyang/opt/anaconda3/lib/python3.9/site-packages/plotnine/ggplot.py:722: PlotnineWarning: Filename: JS_comparison.pdf\n"
     ]
    },
    {
     "data": {
      "image/png": "[encoded data removed]",
      "text/plain": [
       "<Figure size 640x480 with 1 Axes>"
      ]
     },
     "metadata": {},
     "output_type": "display_data"
    },
    {
     "data": {
      "text/plain": [
       "<ggplot: (8771313082088)>"
      ]
     },
     "execution_count": 7,
     "metadata": {},
     "output_type": "execute_result"
    }
   ],
   "source": [
    "risk = pd.DataFrame(np.mean(np.array(results), axis = 0), columns =['rho', 'JS', 'SURE', 'MLE'])\n",
    "\n",
    "risk = pd.melt(risk, ['rho'], var_name='Estimator', value_name='risk')\n",
    "fig = (ggplot(risk)\n",
    "    + aes(x='rho', y='risk', color='Estimator', linetype='Estimator', ymax = 2)\n",
    "    + geom_line(size = 0.8)\n",
    "    + xlab(r'$\\rho$')\n",
    "    + ylab('Average Loss')\n",
    "    + scale_color_manual(labels = ['James-Stein', 'FM.LE (MLE)', 'SURE'], \n",
    "                       values = ['red', 'blue', 'green'])\n",
    "    + scale_linetype_manual(labels = ['James-Stein', 'FM.LE (MLE)', 'SURE'], \n",
    "                          values = ['dashdot','dashed','solid'])\n",
    "    + theme(axis_title=element_text(size=8), \n",
    "          axis_text=element_text(size=8),\n",
    "          legend_title=element_text(size=8),\n",
    "          legend_text=element_text(size=8),\n",
    "          strip_text=element_text(size=8))\n",
    "    #+ ggtitle(r'$\\mu=diag(2,0.5,0.5)$, $\\Psi = I_6$, $\\lambda = 10$, $\\nu=15$')\n",
    "    )\n",
    "\n",
    "fig.save('JS_comparison.pdf', dpi = 320, width = 6, height = 4, units=\"in\")\n",
    "fig"
   ]
  },
  {
   "cell_type": "code",
   "execution_count": null,
   "id": "b56ff525-bcaa-4713-a41a-962fd41219a8",
   "metadata": {},
   "outputs": [],
   "source": []
  }
 ],
 "metadata": {
  "kernelspec": {
   "display_name": "Python 3 (ipykernel)",
   "language": "python",
   "name": "python3"
  },
  "language_info": {
   "codemirror_mode": {
    "name": "ipython",
    "version": 3
   },
   "file_extension": ".py",
   "mimetype": "text/x-python",
   "name": "python",
   "nbconvert_exporter": "python",
   "pygments_lexer": "ipython3",
   "version": "3.9.7"
  }
 },
 "nbformat": 4,
 "nbformat_minor": 5
}
